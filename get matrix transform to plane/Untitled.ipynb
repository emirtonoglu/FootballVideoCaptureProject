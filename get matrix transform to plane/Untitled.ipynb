{
 "cells": [
  {
   "cell_type": "code",
   "execution_count": 1,
   "id": "6df6fa89-dce4-4369-8a93-0ee32fab4e95",
   "metadata": {},
   "outputs": [
    {
     "name": "stdout",
     "output_type": "stream",
     "text": [
      "[[ 2.56945407e-01  5.90910632e-01  1.94094537e+02]\n",
      " [-1.33508274e-02  1.37658562e+00 -8.34967286e+01]\n",
      " [-3.41878940e-05  1.31509536e-03  1.00000000e+00]]\n"
     ]
    }
   ],
   "source": [
    "import cv2\n",
    "import numpy as np\n",
    "\n",
    "src=cv2.imread('src.jpg')\n",
    "dst=cv2.imread('dst.jpg')\n",
    "\n",
    "srcs=src.shape\n",
    "dsts=dst.shape\n",
    "\n",
    "pts1 = np.float32([[940,96],[1427,395],[455,395],[943,1022]])\n",
    "pts2 = np.float32([[450,33],[540,300],[362,302],[450,567]])\n",
    "\n",
    "pts3 = np.float32([[943,395]])\n",
    "\n",
    "\n",
    "M = cv2.getPerspectiveTransform(pts1,pts2)\n",
    "print(M)\n",
    "\n",
    "pts3o=cv2.perspectiveTransform(pts3[None, :, :],M)\n",
    "\n",
    "\n",
    "x=int(pts3o[0][0][0])\n",
    "y=int(pts3o[0][0][1])\n",
    "p=(x,y)\n",
    "\n",
    "\n",
    "cv2.circle(dst,p, 5, (0,0,255),-1)\n",
    "\n",
    "cv2.imshow('sada',dst)\n",
    "\n",
    "cv2.waitKey(0)\n",
    "\n",
    "cv2.destroyAllWindows()\n"
   ]
  },
  {
   "cell_type": "code",
   "execution_count": null,
   "id": "4e112069-daac-404c-817f-714ea415dc98",
   "metadata": {},
   "outputs": [],
   "source": []
  }
 ],
 "metadata": {
  "kernelspec": {
   "display_name": "Python 3 (ipykernel)",
   "language": "python",
   "name": "python3"
  },
  "language_info": {
   "codemirror_mode": {
    "name": "ipython",
    "version": 3
   },
   "file_extension": ".py",
   "mimetype": "text/x-python",
   "name": "python",
   "nbconvert_exporter": "python",
   "pygments_lexer": "ipython3",
   "version": "3.10.4"
  }
 },
 "nbformat": 4,
 "nbformat_minor": 5
}
